{
 "cells": [
  {
   "cell_type": "markdown",
   "id": "93261085-f592-4b63-8b75-52839c4c7e13",
   "metadata": {},
   "source": [
    "# Load and transform MIND dataset for cold-start scenario\n",
    "\n",
    "Based on `004-create-mind-cold-start-basic-train-test-dataset.ipynb`."
   ]
  },
  {
   "cell_type": "markdown",
   "id": "3c2e4227-7960-436b-b073-5adf048d4c9b",
   "metadata": {},
   "source": [
    "## Install deps, download and unzip original dataset"
   ]
  },
  {
   "cell_type": "code",
   "execution_count": 1,
   "id": "14c83c1f-7b49-472a-b52a-264b4a73becd",
   "metadata": {},
   "outputs": [],
   "source": [
    "# ! apt update && apt install unzip\n",
    "\n",
    "# ! mkdir -p /tmp/mind/train\n",
    "# ! mkdir -p /tmp/mind/test\n",
    "\n",
    "# ! wget https://mind201910small.blob.core.windows.net/release/MINDsmall_train.zip -P /tmp/mind/\n",
    "# ! wget https://mind201910small.blob.core.windows.net/release/MINDsmall_dev.zip -P /tmp/mind/\n",
    "\n",
    "# ! unzip /tmp/mind/MINDsmall_train.zip -d /tmp/mind/train/\n",
    "# ! unzip /tmp/mind/MINDsmall_dev.zip -d /tmp/mind/test/\n",
    "\n",
    "# ! rm /tmp/mind/MINDsmall_train.zip\n",
    "# ! rm /tmp/mind/MINDsmall_dev.zip"
   ]
  },
  {
   "cell_type": "markdown",
   "id": "93b884e2-ef2f-4d15-9954-a37f1d51a5d5",
   "metadata": {},
   "source": [
    "## Imports and files/paths definitions"
   ]
  },
  {
   "cell_type": "code",
   "execution_count": 2,
   "id": "c6e11410-4655-4936-969e-16a8f0e21187",
   "metadata": {},
   "outputs": [],
   "source": [
    "import pandas as pd\n",
    "import numpy as np\n",
    "import os"
   ]
  },
  {
   "cell_type": "code",
   "execution_count": 3,
   "id": "a99ac43a-0bb1-4ed8-8a0f-df9c2f05dec7",
   "metadata": {},
   "outputs": [],
   "source": [
    "COLD_START_CATEGORY = \"news\"\n",
    "ORIGINAL_TRAIN_INPUT_DIR = \"/tmp/mind/train/\"\n",
    "ORIGINAL_TEST_INPUT_DIR = \"/tmp/mind/test/\"\n",
    "OUTPUT_DIR = \"./data/mind_cold_start_datasets_basic/\"\n",
    "\n",
    "COLD_START_BEHAVIORS_TRAIN = os.path.join(OUTPUT_DIR, \"behaviors_train.tsv\")\n",
    "COLD_START_BEHAVIORS_TEST = os.path.join(OUTPUT_DIR, \"behaviors_test.tsv\")\n",
    "NEWS_CATALOGUE_TRAIN = os.path.join(OUTPUT_DIR, \"news_catalogue_train.tsv\")\n",
    "NEWS_CATALOGUE_TEST = os.path.join(OUTPUT_DIR, \"news_catalogue_test.tsv\")\n",
    "AUXILIARY_DATA_CATALOGUE_TRAIN = os.path.join(OUTPUT_DIR, \"auxiliary_data_catalogue_train.tsv\")\n",
    "AUXILIARY_DATA_CATALOGUE_TEST = os.path.join(OUTPUT_DIR, \"auxiliary_data_catalogue_test.tsv\")"
   ]
  },
  {
   "cell_type": "code",
   "execution_count": null,
   "id": "c6372ff1-9302-4709-a7c8-8754f8c29f57",
   "metadata": {},
   "outputs": [],
   "source": [
    "! mkdir -p $OUTPUT_DIR"
   ]
  },
  {
   "cell_type": "markdown",
   "id": "0ccd2ec0-39aa-40ab-9ca9-11a7dbd52dd9",
   "metadata": {},
   "source": [
    "## Load and inspect original data"
   ]
  },
  {
   "cell_type": "code",
   "execution_count": 4,
   "id": "70ff7576-8bc3-41ac-9064-0ec7d289fd79",
   "metadata": {},
   "outputs": [
    {
     "name": "stdout",
     "output_type": "stream",
     "text": [
      "<class 'pandas.core.frame.DataFrame'>\n",
      "RangeIndex: 156965 entries, 0 to 156964\n",
      "Data columns (total 5 columns):\n",
      " #   Column       Non-Null Count   Dtype \n",
      "---  ------       --------------   ----- \n",
      " 0   slateid      156965 non-null  int64 \n",
      " 1   userid       156965 non-null  object\n",
      " 2   time         156965 non-null  object\n",
      " 3   history      153727 non-null  object\n",
      " 4   impressions  156965 non-null  object\n",
      "dtypes: int64(1), object(4)\n",
      "memory usage: 6.0+ MB\n"
     ]
    }
   ],
   "source": [
    "behaviors_train = pd.read_csv(\n",
    "    os.path.join(ORIGINAL_TRAIN_INPUT_DIR, \"behaviors.tsv\"),\n",
    "    sep=\"\\t\",\n",
    "    names=[\"slateid\", \"userid\", \"time\", \"history\", \"impressions\"]\n",
    ")\n",
    "\n",
    "behaviors_train.info()"
   ]
  },
  {
   "cell_type": "code",
   "execution_count": 5,
   "id": "3c44cb6d-95bd-4259-bdf9-4d2612c561e2",
   "metadata": {},
   "outputs": [
    {
     "name": "stdout",
     "output_type": "stream",
     "text": [
      "<class 'pandas.core.frame.DataFrame'>\n",
      "RangeIndex: 73152 entries, 0 to 73151\n",
      "Data columns (total 5 columns):\n",
      " #   Column       Non-Null Count  Dtype \n",
      "---  ------       --------------  ----- \n",
      " 0   slateid      73152 non-null  int64 \n",
      " 1   userid       73152 non-null  object\n",
      " 2   time         73152 non-null  object\n",
      " 3   history      70938 non-null  object\n",
      " 4   impressions  73152 non-null  object\n",
      "dtypes: int64(1), object(4)\n",
      "memory usage: 2.8+ MB\n"
     ]
    }
   ],
   "source": [
    "behaviors_test = pd.read_csv(\n",
    "    os.path.join(ORIGINAL_TEST_INPUT_DIR, \"behaviors.tsv\"),\n",
    "    sep=\"\\t\",\n",
    "    names=[\"slateid\", \"userid\", \"time\", \"history\", \"impressions\"]\n",
    ")\n",
    "\n",
    "behaviors_test.info()"
   ]
  },
  {
   "cell_type": "code",
   "execution_count": 6,
   "id": "d45be867-3849-42d0-9978-49836d842b53",
   "metadata": {},
   "outputs": [
    {
     "name": "stdout",
     "output_type": "stream",
     "text": [
      "<class 'pandas.core.frame.DataFrame'>\n",
      "RangeIndex: 51282 entries, 0 to 51281\n",
      "Data columns (total 8 columns):\n",
      " #   Column             Non-Null Count  Dtype \n",
      "---  ------             --------------  ----- \n",
      " 0   newsid             51282 non-null  object\n",
      " 1   category           51282 non-null  object\n",
      " 2   subcategory        51282 non-null  object\n",
      " 3   title              51282 non-null  object\n",
      " 4   abstract           48616 non-null  object\n",
      " 5   url                51282 non-null  object\n",
      " 6   title_entities     51279 non-null  object\n",
      " 7   abstract_entities  51278 non-null  object\n",
      "dtypes: object(8)\n",
      "memory usage: 3.1+ MB\n"
     ]
    }
   ],
   "source": [
    "news_train = pd.read_csv(\n",
    "    os.path.join(ORIGINAL_TRAIN_INPUT_DIR, \"news.tsv\"),\n",
    "    sep=\"\\t\",\n",
    "    names=[\"newsid\", \"category\", \"subcategory\", \"title\", \"abstract\", \"url\", \"title_entities\", \"abstract_entities\"]\n",
    ")\n",
    "\n",
    "news_train.info()"
   ]
  },
  {
   "cell_type": "code",
   "execution_count": 7,
   "id": "03c1f718-bc8b-40e7-a227-6c4792ca1970",
   "metadata": {},
   "outputs": [
    {
     "name": "stdout",
     "output_type": "stream",
     "text": [
      "<class 'pandas.core.frame.DataFrame'>\n",
      "RangeIndex: 42416 entries, 0 to 42415\n",
      "Data columns (total 8 columns):\n",
      " #   Column             Non-Null Count  Dtype \n",
      "---  ------             --------------  ----- \n",
      " 0   newsid             42416 non-null  object\n",
      " 1   category           42416 non-null  object\n",
      " 2   subcategory        42416 non-null  object\n",
      " 3   title              42416 non-null  object\n",
      " 4   abstract           40395 non-null  object\n",
      " 5   url                42416 non-null  object\n",
      " 6   title_entities     42414 non-null  object\n",
      " 7   abstract_entities  42414 non-null  object\n",
      "dtypes: object(8)\n",
      "memory usage: 2.6+ MB\n"
     ]
    }
   ],
   "source": [
    "news_test = pd.read_csv(\n",
    "    os.path.join(ORIGINAL_TEST_INPUT_DIR, \"news.tsv\"),\n",
    "    sep=\"\\t\",\n",
    "    names=[\"newsid\", \"category\", \"subcategory\", \"title\", \"abstract\", \"url\", \"title_entities\", \"abstract_entities\"]\n",
    ")\n",
    "\n",
    "news_test.info()"
   ]
  },
  {
   "cell_type": "code",
   "execution_count": 8,
   "id": "0a9b0083-0938-4021-a703-4748ffadb862",
   "metadata": {},
   "outputs": [
    {
     "data": {
      "text/html": [
       "<div>\n",
       "<style scoped>\n",
       "    .dataframe tbody tr th:only-of-type {\n",
       "        vertical-align: middle;\n",
       "    }\n",
       "\n",
       "    .dataframe tbody tr th {\n",
       "        vertical-align: top;\n",
       "    }\n",
       "\n",
       "    .dataframe thead th {\n",
       "        text-align: right;\n",
       "    }\n",
       "</style>\n",
       "<table border=\"1\" class=\"dataframe\">\n",
       "  <thead>\n",
       "    <tr style=\"text-align: right;\">\n",
       "      <th></th>\n",
       "      <th>slateid</th>\n",
       "      <th>userid</th>\n",
       "      <th>time</th>\n",
       "      <th>history</th>\n",
       "      <th>impressions</th>\n",
       "    </tr>\n",
       "  </thead>\n",
       "  <tbody>\n",
       "    <tr>\n",
       "      <th>0</th>\n",
       "      <td>1</td>\n",
       "      <td>U13740</td>\n",
       "      <td>11/11/2019 9:05:58 AM</td>\n",
       "      <td>N55189 N42782 N34694 N45794 N18445 N63302 N104...</td>\n",
       "      <td>N55689-1 N35729-0</td>\n",
       "    </tr>\n",
       "    <tr>\n",
       "      <th>1</th>\n",
       "      <td>2</td>\n",
       "      <td>U91836</td>\n",
       "      <td>11/12/2019 6:11:30 PM</td>\n",
       "      <td>N31739 N6072 N63045 N23979 N35656 N43353 N8129...</td>\n",
       "      <td>N20678-0 N39317-0 N58114-0 N20495-0 N42977-0 N...</td>\n",
       "    </tr>\n",
       "    <tr>\n",
       "      <th>2</th>\n",
       "      <td>3</td>\n",
       "      <td>U73700</td>\n",
       "      <td>11/14/2019 7:01:48 AM</td>\n",
       "      <td>N10732 N25792 N7563 N21087 N41087 N5445 N60384...</td>\n",
       "      <td>N50014-0 N23877-0 N35389-0 N49712-0 N16844-0 N...</td>\n",
       "    </tr>\n",
       "    <tr>\n",
       "      <th>3</th>\n",
       "      <td>4</td>\n",
       "      <td>U34670</td>\n",
       "      <td>11/11/2019 5:28:05 AM</td>\n",
       "      <td>N45729 N2203 N871 N53880 N41375 N43142 N33013 ...</td>\n",
       "      <td>N35729-0 N33632-0 N49685-1 N27581-0</td>\n",
       "    </tr>\n",
       "    <tr>\n",
       "      <th>4</th>\n",
       "      <td>5</td>\n",
       "      <td>U8125</td>\n",
       "      <td>11/12/2019 4:11:21 PM</td>\n",
       "      <td>N10078 N56514 N14904 N33740</td>\n",
       "      <td>N39985-0 N36050-0 N16096-0 N8400-1 N22407-0 N6...</td>\n",
       "    </tr>\n",
       "  </tbody>\n",
       "</table>\n",
       "</div>"
      ],
      "text/plain": [
       "   slateid  userid                   time  \\\n",
       "0        1  U13740  11/11/2019 9:05:58 AM   \n",
       "1        2  U91836  11/12/2019 6:11:30 PM   \n",
       "2        3  U73700  11/14/2019 7:01:48 AM   \n",
       "3        4  U34670  11/11/2019 5:28:05 AM   \n",
       "4        5   U8125  11/12/2019 4:11:21 PM   \n",
       "\n",
       "                                             history  \\\n",
       "0  N55189 N42782 N34694 N45794 N18445 N63302 N104...   \n",
       "1  N31739 N6072 N63045 N23979 N35656 N43353 N8129...   \n",
       "2  N10732 N25792 N7563 N21087 N41087 N5445 N60384...   \n",
       "3  N45729 N2203 N871 N53880 N41375 N43142 N33013 ...   \n",
       "4                        N10078 N56514 N14904 N33740   \n",
       "\n",
       "                                         impressions  \n",
       "0                                  N55689-1 N35729-0  \n",
       "1  N20678-0 N39317-0 N58114-0 N20495-0 N42977-0 N...  \n",
       "2  N50014-0 N23877-0 N35389-0 N49712-0 N16844-0 N...  \n",
       "3                N35729-0 N33632-0 N49685-1 N27581-0  \n",
       "4  N39985-0 N36050-0 N16096-0 N8400-1 N22407-0 N6...  "
      ]
     },
     "execution_count": 8,
     "metadata": {},
     "output_type": "execute_result"
    }
   ],
   "source": [
    "behaviors_train.head()"
   ]
  },
  {
   "cell_type": "code",
   "execution_count": 9,
   "id": "cd40cfee-86d5-4b85-9b92-a99740eaa7f4",
   "metadata": {},
   "outputs": [
    {
     "data": {
      "text/html": [
       "<div>\n",
       "<style scoped>\n",
       "    .dataframe tbody tr th:only-of-type {\n",
       "        vertical-align: middle;\n",
       "    }\n",
       "\n",
       "    .dataframe tbody tr th {\n",
       "        vertical-align: top;\n",
       "    }\n",
       "\n",
       "    .dataframe thead th {\n",
       "        text-align: right;\n",
       "    }\n",
       "</style>\n",
       "<table border=\"1\" class=\"dataframe\">\n",
       "  <thead>\n",
       "    <tr style=\"text-align: right;\">\n",
       "      <th></th>\n",
       "      <th>newsid</th>\n",
       "      <th>category</th>\n",
       "      <th>subcategory</th>\n",
       "      <th>title</th>\n",
       "      <th>abstract</th>\n",
       "      <th>url</th>\n",
       "      <th>title_entities</th>\n",
       "      <th>abstract_entities</th>\n",
       "    </tr>\n",
       "  </thead>\n",
       "  <tbody>\n",
       "    <tr>\n",
       "      <th>0</th>\n",
       "      <td>N55528</td>\n",
       "      <td>lifestyle</td>\n",
       "      <td>lifestyleroyals</td>\n",
       "      <td>The Brands Queen Elizabeth, Prince Charles, an...</td>\n",
       "      <td>Shop the notebooks, jackets, and more that the...</td>\n",
       "      <td>https://assets.msn.com/labs/mind/AAGH0ET.html</td>\n",
       "      <td>[{\"Label\": \"Prince Philip, Duke of Edinburgh\",...</td>\n",
       "      <td>[]</td>\n",
       "    </tr>\n",
       "    <tr>\n",
       "      <th>1</th>\n",
       "      <td>N19639</td>\n",
       "      <td>health</td>\n",
       "      <td>weightloss</td>\n",
       "      <td>50 Worst Habits For Belly Fat</td>\n",
       "      <td>These seemingly harmless habits are holding yo...</td>\n",
       "      <td>https://assets.msn.com/labs/mind/AAB19MK.html</td>\n",
       "      <td>[{\"Label\": \"Adipose tissue\", \"Type\": \"C\", \"Wik...</td>\n",
       "      <td>[{\"Label\": \"Adipose tissue\", \"Type\": \"C\", \"Wik...</td>\n",
       "    </tr>\n",
       "    <tr>\n",
       "      <th>2</th>\n",
       "      <td>N61837</td>\n",
       "      <td>news</td>\n",
       "      <td>newsworld</td>\n",
       "      <td>The Cost of Trump's Aid Freeze in the Trenches...</td>\n",
       "      <td>Lt. Ivan Molchanets peeked over a parapet of s...</td>\n",
       "      <td>https://assets.msn.com/labs/mind/AAJgNsz.html</td>\n",
       "      <td>[]</td>\n",
       "      <td>[{\"Label\": \"Ukraine\", \"Type\": \"G\", \"WikidataId...</td>\n",
       "    </tr>\n",
       "    <tr>\n",
       "      <th>3</th>\n",
       "      <td>N53526</td>\n",
       "      <td>health</td>\n",
       "      <td>voices</td>\n",
       "      <td>I Was An NBA Wife. Here's How It Affected My M...</td>\n",
       "      <td>I felt like I was a fraud, and being an NBA wi...</td>\n",
       "      <td>https://assets.msn.com/labs/mind/AACk2N6.html</td>\n",
       "      <td>[]</td>\n",
       "      <td>[{\"Label\": \"National Basketball Association\", ...</td>\n",
       "    </tr>\n",
       "    <tr>\n",
       "      <th>4</th>\n",
       "      <td>N38324</td>\n",
       "      <td>health</td>\n",
       "      <td>medical</td>\n",
       "      <td>How to Get Rid of Skin Tags, According to a De...</td>\n",
       "      <td>They seem harmless, but there's a very good re...</td>\n",
       "      <td>https://assets.msn.com/labs/mind/AAAKEkt.html</td>\n",
       "      <td>[{\"Label\": \"Skin tag\", \"Type\": \"C\", \"WikidataI...</td>\n",
       "      <td>[{\"Label\": \"Skin tag\", \"Type\": \"C\", \"WikidataI...</td>\n",
       "    </tr>\n",
       "  </tbody>\n",
       "</table>\n",
       "</div>"
      ],
      "text/plain": [
       "   newsid   category      subcategory  \\\n",
       "0  N55528  lifestyle  lifestyleroyals   \n",
       "1  N19639     health       weightloss   \n",
       "2  N61837       news        newsworld   \n",
       "3  N53526     health           voices   \n",
       "4  N38324     health          medical   \n",
       "\n",
       "                                               title  \\\n",
       "0  The Brands Queen Elizabeth, Prince Charles, an...   \n",
       "1                      50 Worst Habits For Belly Fat   \n",
       "2  The Cost of Trump's Aid Freeze in the Trenches...   \n",
       "3  I Was An NBA Wife. Here's How It Affected My M...   \n",
       "4  How to Get Rid of Skin Tags, According to a De...   \n",
       "\n",
       "                                            abstract  \\\n",
       "0  Shop the notebooks, jackets, and more that the...   \n",
       "1  These seemingly harmless habits are holding yo...   \n",
       "2  Lt. Ivan Molchanets peeked over a parapet of s...   \n",
       "3  I felt like I was a fraud, and being an NBA wi...   \n",
       "4  They seem harmless, but there's a very good re...   \n",
       "\n",
       "                                             url  \\\n",
       "0  https://assets.msn.com/labs/mind/AAGH0ET.html   \n",
       "1  https://assets.msn.com/labs/mind/AAB19MK.html   \n",
       "2  https://assets.msn.com/labs/mind/AAJgNsz.html   \n",
       "3  https://assets.msn.com/labs/mind/AACk2N6.html   \n",
       "4  https://assets.msn.com/labs/mind/AAAKEkt.html   \n",
       "\n",
       "                                      title_entities  \\\n",
       "0  [{\"Label\": \"Prince Philip, Duke of Edinburgh\",...   \n",
       "1  [{\"Label\": \"Adipose tissue\", \"Type\": \"C\", \"Wik...   \n",
       "2                                                 []   \n",
       "3                                                 []   \n",
       "4  [{\"Label\": \"Skin tag\", \"Type\": \"C\", \"WikidataI...   \n",
       "\n",
       "                                   abstract_entities  \n",
       "0                                                 []  \n",
       "1  [{\"Label\": \"Adipose tissue\", \"Type\": \"C\", \"Wik...  \n",
       "2  [{\"Label\": \"Ukraine\", \"Type\": \"G\", \"WikidataId...  \n",
       "3  [{\"Label\": \"National Basketball Association\", ...  \n",
       "4  [{\"Label\": \"Skin tag\", \"Type\": \"C\", \"WikidataI...  "
      ]
     },
     "execution_count": 9,
     "metadata": {},
     "output_type": "execute_result"
    }
   ],
   "source": [
    "news_train.head()"
   ]
  },
  {
   "cell_type": "code",
   "execution_count": 10,
   "id": "d2285335-510b-432d-aeba-52c359a76153",
   "metadata": {},
   "outputs": [
    {
     "data": {
      "text/plain": [
       "array(['lifestyle', 'health', 'news', 'sports', 'weather',\n",
       "       'entertainment', 'autos', 'travel', 'foodanddrink', 'tv',\n",
       "       'finance', 'movies', 'video', 'music', 'kids', 'middleeast',\n",
       "       'northamerica'], dtype=object)"
      ]
     },
     "execution_count": 10,
     "metadata": {},
     "output_type": "execute_result"
    }
   ],
   "source": [
    "news_train.category.unique()"
   ]
  },
  {
   "cell_type": "markdown",
   "id": "dc15ff5d-9a85-4beb-8904-7d643e9c0ee8",
   "metadata": {},
   "source": [
    "## Transform datasets to cold-start"
   ]
  },
  {
   "cell_type": "code",
   "execution_count": 11,
   "id": "9f685bcf-b26a-4261-b793-9eae51c4f632",
   "metadata": {
    "tags": []
   },
   "outputs": [],
   "source": [
    "def transform_behaviors_to_coldstart(behaviors, news):\n",
    "    # filter histories to news-only\n",
    "    behaviors_histories_news_only = (behaviors[[\"slateid\", \"history\"]]\n",
    "                                     .assign(history=lambda x: x[\"history\"].fillna(\"\").str.split())\n",
    "                                     .explode(\"history\")\n",
    "                                     .reset_index(drop=True).reset_index(drop=False) # trick to preserve original ordering through merge\n",
    "                                     .merge(news[news.category == COLD_START_CATEGORY][[\"newsid\"]], left_on=\"history\", right_on=\"newsid\", how=\"inner\", sort=False)\n",
    "                                     .sort_values(\"index\").drop(\"index\", axis=1) # restore original ordering\n",
    "                                     .groupby(\"slateid\", as_index=False)\n",
    "                                     .agg({\"history\": list})\n",
    "                                     .assign(history=lambda x: x[\"history\"].str.join(\" \"))\n",
    "                                     .rename(columns={\"history\": \"history_news\"}))\n",
    "\n",
    "    # filter impressions to news-only\n",
    "    behaviors_impressions_news_only = (behaviors[[\"slateid\", \"impressions\"]]\n",
    "                                       .assign(impressions=lambda x: x[\"impressions\"].fillna(\"\").str.split())\n",
    "                                       .explode(\"impressions\")\n",
    "                                       .assign(impression_id=lambda x: x[\"impressions\"].str.split(\"-\").str[0])\n",
    "                                       .reset_index(drop=True).reset_index(drop=False) # trick to preserve original ordering through merge\n",
    "                                       .merge(news[news.category == COLD_START_CATEGORY][[\"newsid\"]], left_on=\"impression_id\", right_on=\"newsid\", how=\"inner\", sort=False)\n",
    "                                       .sort_values(\"index\").drop(\"index\", axis=1) # restore original ordering\n",
    "                                       .groupby(\"slateid\", as_index=False)\n",
    "                                       .agg({\"impressions\": list})\n",
    "                                       .assign(impressions=lambda x: x[\"impressions\"].str.join(\" \"))\n",
    "                                       .rename(columns={\"impressions\": \"impressions_news\"})\n",
    "                                      )\n",
    "\n",
    "    # generate categories and subcategories side-data from user histories\n",
    "    behaviors_categories = (behaviors[[\"slateid\", \"history\"]]\n",
    "                                     .assign(history=lambda x: x[\"history\"].fillna(\"\").str.split())\n",
    "                                     .explode(\"history\")\n",
    "                                     .reset_index(drop=True).reset_index(drop=False) # trick to preserve original ordering through merge\n",
    "                                     .merge(news[[\"newsid\", \"category\", \"subcategory\"]], left_on=\"history\", right_on=\"newsid\")\n",
    "                                     .sort_values(\"index\").drop(\"index\", axis=1) # restore original ordering\n",
    "                                     .groupby(\"slateid\", as_index=False)\n",
    "                                     .agg({\"category\": list, \"subcategory\": list})\n",
    "                                     .assign(category=lambda x: x[\"category\"].str.join(\" \"))\n",
    "                                     .assign(subcategory=lambda x: x[\"subcategory\"].str.join(\" \"))\n",
    "                                     .rename(columns={\"category\": \"history_all_categories\", \"subcategory\": \"history_all_subcategories\"}))\n",
    "\n",
    "    # join all data together\n",
    "    return (behaviors\n",
    "            .rename(columns={\"history\": \"history_all\"})\n",
    "            .rename(columns={\"impressions\": \"impressions_all\"})\n",
    "            .merge(behaviors_histories_news_only, on=\"slateid\", how=\"inner\")\n",
    "            .merge(behaviors_impressions_news_only, on=\"slateid\", how=\"inner\")\n",
    "            .merge(behaviors_categories, on=\"slateid\", how=\"inner\"))"
   ]
  },
  {
   "cell_type": "markdown",
   "id": "9e8955d5-6353-4e28-92d0-b490f693f776",
   "metadata": {},
   "source": [
    "### Transform train dataset"
   ]
  },
  {
   "cell_type": "code",
   "execution_count": 12,
   "id": "771282ff-da0d-4079-ba0b-cec91a18aae8",
   "metadata": {},
   "outputs": [],
   "source": [
    "behaviors_train_ex = transform_behaviors_to_coldstart(behaviors_train, news_train)"
   ]
  },
  {
   "cell_type": "code",
   "execution_count": 13,
   "id": "31939ad0-d699-496f-851d-673baa2e3d1d",
   "metadata": {},
   "outputs": [
    {
     "data": {
      "text/html": [
       "<div>\n",
       "<style scoped>\n",
       "    .dataframe tbody tr th:only-of-type {\n",
       "        vertical-align: middle;\n",
       "    }\n",
       "\n",
       "    .dataframe tbody tr th {\n",
       "        vertical-align: top;\n",
       "    }\n",
       "\n",
       "    .dataframe thead th {\n",
       "        text-align: right;\n",
       "    }\n",
       "</style>\n",
       "<table border=\"1\" class=\"dataframe\">\n",
       "  <thead>\n",
       "    <tr style=\"text-align: right;\">\n",
       "      <th></th>\n",
       "      <th>slateid</th>\n",
       "      <th>userid</th>\n",
       "      <th>time</th>\n",
       "      <th>history_all</th>\n",
       "      <th>impressions_all</th>\n",
       "      <th>history_news</th>\n",
       "      <th>impressions_news</th>\n",
       "      <th>history_all_categories</th>\n",
       "      <th>history_all_subcategories</th>\n",
       "    </tr>\n",
       "  </thead>\n",
       "  <tbody>\n",
       "    <tr>\n",
       "      <th>0</th>\n",
       "      <td>1</td>\n",
       "      <td>U13740</td>\n",
       "      <td>11/11/2019 9:05:58 AM</td>\n",
       "      <td>N55189 N42782 N34694 N45794 N18445 N63302 N104...</td>\n",
       "      <td>N55689-1 N35729-0</td>\n",
       "      <td>N45794 N19347 N31801</td>\n",
       "      <td>N35729-0</td>\n",
       "      <td>tv sports tv news sports lifestyle movies news...</td>\n",
       "      <td>tvnews baseball_mlb tvnews newscrime football_...</td>\n",
       "    </tr>\n",
       "    <tr>\n",
       "      <th>1</th>\n",
       "      <td>2</td>\n",
       "      <td>U91836</td>\n",
       "      <td>11/12/2019 6:11:30 PM</td>\n",
       "      <td>N31739 N6072 N63045 N23979 N35656 N43353 N8129...</td>\n",
       "      <td>N20678-0 N39317-0 N58114-0 N20495-0 N42977-0 N...</td>\n",
       "      <td>N31739 N6072 N63045 N43353 N8129 N1569 N17686 ...</td>\n",
       "      <td>N39317-0 N20495-0 N42977-0</td>\n",
       "      <td>news news news finance travel news news news n...</td>\n",
       "      <td>newscrime newsus newscrime markets travelnews ...</td>\n",
       "    </tr>\n",
       "    <tr>\n",
       "      <th>2</th>\n",
       "      <td>3</td>\n",
       "      <td>U73700</td>\n",
       "      <td>11/14/2019 7:01:48 AM</td>\n",
       "      <td>N10732 N25792 N7563 N21087 N41087 N5445 N60384...</td>\n",
       "      <td>N50014-0 N23877-0 N35389-0 N49712-0 N16844-0 N...</td>\n",
       "      <td>N7563 N24233</td>\n",
       "      <td>N23877-0 N49712-0 N64174-0 N46821-0 N48017-0 N...</td>\n",
       "      <td>lifestyle lifestyle news sports tv weather spo...</td>\n",
       "      <td>lifestylebuzz lifestylehomeandgarden newsus fo...</td>\n",
       "    </tr>\n",
       "    <tr>\n",
       "      <th>3</th>\n",
       "      <td>6</td>\n",
       "      <td>U19739</td>\n",
       "      <td>11/11/2019 6:52:13 PM</td>\n",
       "      <td>N39074 N14343 N32607 N32320 N22007 N442 N19001...</td>\n",
       "      <td>N21119-1 N53696-0 N33619-1 N25722-0 N2869-0</td>\n",
       "      <td>N14343 N32607 N32320 N22007 N24294 N8275 N6695...</td>\n",
       "      <td>N21119-1 N53696-0 N33619-1 N25722-0 N2869-0</td>\n",
       "      <td>sports news news news news sports lifestyle ne...</td>\n",
       "      <td>more_sports newsworld newsus newsgoodnews news...</td>\n",
       "    </tr>\n",
       "    <tr>\n",
       "      <th>4</th>\n",
       "      <td>7</td>\n",
       "      <td>U8355</td>\n",
       "      <td>11/11/2019 12:22:09 PM</td>\n",
       "      <td>N8419 N15771 N1431 N5888 N18663 N24123 N22130 ...</td>\n",
       "      <td>N51346-0 N33848-0 N15132-0 N10688-0 N6342-0 N6...</td>\n",
       "      <td>N8419 N1431 N18663 N32095 N55310 N31931 N23887...</td>\n",
       "      <td>N15132-0 N10688-0 N7809-0 N64397-0 N15830-0 N9...</td>\n",
       "      <td>news autos news sports news sports music movie...</td>\n",
       "      <td>newscrime autosenthusiasts newscrime baseball_...</td>\n",
       "    </tr>\n",
       "  </tbody>\n",
       "</table>\n",
       "</div>"
      ],
      "text/plain": [
       "   slateid  userid                    time  \\\n",
       "0        1  U13740   11/11/2019 9:05:58 AM   \n",
       "1        2  U91836   11/12/2019 6:11:30 PM   \n",
       "2        3  U73700   11/14/2019 7:01:48 AM   \n",
       "3        6  U19739   11/11/2019 6:52:13 PM   \n",
       "4        7   U8355  11/11/2019 12:22:09 PM   \n",
       "\n",
       "                                         history_all  \\\n",
       "0  N55189 N42782 N34694 N45794 N18445 N63302 N104...   \n",
       "1  N31739 N6072 N63045 N23979 N35656 N43353 N8129...   \n",
       "2  N10732 N25792 N7563 N21087 N41087 N5445 N60384...   \n",
       "3  N39074 N14343 N32607 N32320 N22007 N442 N19001...   \n",
       "4  N8419 N15771 N1431 N5888 N18663 N24123 N22130 ...   \n",
       "\n",
       "                                     impressions_all  \\\n",
       "0                                  N55689-1 N35729-0   \n",
       "1  N20678-0 N39317-0 N58114-0 N20495-0 N42977-0 N...   \n",
       "2  N50014-0 N23877-0 N35389-0 N49712-0 N16844-0 N...   \n",
       "3        N21119-1 N53696-0 N33619-1 N25722-0 N2869-0   \n",
       "4  N51346-0 N33848-0 N15132-0 N10688-0 N6342-0 N6...   \n",
       "\n",
       "                                        history_news  \\\n",
       "0                               N45794 N19347 N31801   \n",
       "1  N31739 N6072 N63045 N43353 N8129 N1569 N17686 ...   \n",
       "2                                       N7563 N24233   \n",
       "3  N14343 N32607 N32320 N22007 N24294 N8275 N6695...   \n",
       "4  N8419 N1431 N18663 N32095 N55310 N31931 N23887...   \n",
       "\n",
       "                                    impressions_news  \\\n",
       "0                                           N35729-0   \n",
       "1                         N39317-0 N20495-0 N42977-0   \n",
       "2  N23877-0 N49712-0 N64174-0 N46821-0 N48017-0 N...   \n",
       "3        N21119-1 N53696-0 N33619-1 N25722-0 N2869-0   \n",
       "4  N15132-0 N10688-0 N7809-0 N64397-0 N15830-0 N9...   \n",
       "\n",
       "                              history_all_categories  \\\n",
       "0  tv sports tv news sports lifestyle movies news...   \n",
       "1  news news news finance travel news news news n...   \n",
       "2  lifestyle lifestyle news sports tv weather spo...   \n",
       "3  sports news news news news sports lifestyle ne...   \n",
       "4  news autos news sports news sports music movie...   \n",
       "\n",
       "                           history_all_subcategories  \n",
       "0  tvnews baseball_mlb tvnews newscrime football_...  \n",
       "1  newscrime newsus newscrime markets travelnews ...  \n",
       "2  lifestylebuzz lifestylehomeandgarden newsus fo...  \n",
       "3  more_sports newsworld newsus newsgoodnews news...  \n",
       "4  newscrime autosenthusiasts newscrime baseball_...  "
      ]
     },
     "execution_count": 13,
     "metadata": {},
     "output_type": "execute_result"
    }
   ],
   "source": [
    "behaviors_train_ex.head(5)"
   ]
  },
  {
   "cell_type": "code",
   "execution_count": 14,
   "id": "165f3fe0-b847-4af1-973c-627649ecced8",
   "metadata": {},
   "outputs": [],
   "source": [
    "behaviors_train_ex[[\"slateid\", \"userid\", \"time\", \"history_news\", \"impressions_news\", \"history_all_categories\", \"history_all_subcategories\", \"history_all\"]].rename(columns={\"history_news\": \"history\", \"impressions_news\": \"impressions\"}).to_csv(COLD_START_BEHAVIORS_TRAIN, sep=\"\\t\", index=False)"
   ]
  },
  {
   "cell_type": "markdown",
   "id": "4caf8983-e32a-4a5e-9b82-1d17f37f2d94",
   "metadata": {},
   "source": [
    "### Transform test dataset"
   ]
  },
  {
   "cell_type": "code",
   "execution_count": 15,
   "id": "1e24f1ed-3267-4c77-990a-48ce02954618",
   "metadata": {},
   "outputs": [],
   "source": [
    "behaviors_test_ex = transform_behaviors_to_coldstart(behaviors_test, news_test)"
   ]
  },
  {
   "cell_type": "code",
   "execution_count": 16,
   "id": "fd275e6e-d837-4766-b761-f6545788d575",
   "metadata": {},
   "outputs": [
    {
     "data": {
      "text/html": [
       "<div>\n",
       "<style scoped>\n",
       "    .dataframe tbody tr th:only-of-type {\n",
       "        vertical-align: middle;\n",
       "    }\n",
       "\n",
       "    .dataframe tbody tr th {\n",
       "        vertical-align: top;\n",
       "    }\n",
       "\n",
       "    .dataframe thead th {\n",
       "        text-align: right;\n",
       "    }\n",
       "</style>\n",
       "<table border=\"1\" class=\"dataframe\">\n",
       "  <thead>\n",
       "    <tr style=\"text-align: right;\">\n",
       "      <th></th>\n",
       "      <th>slateid</th>\n",
       "      <th>userid</th>\n",
       "      <th>time</th>\n",
       "      <th>history_all</th>\n",
       "      <th>impressions_all</th>\n",
       "      <th>history_news</th>\n",
       "      <th>impressions_news</th>\n",
       "      <th>history_all_categories</th>\n",
       "      <th>history_all_subcategories</th>\n",
       "    </tr>\n",
       "  </thead>\n",
       "  <tbody>\n",
       "    <tr>\n",
       "      <th>0</th>\n",
       "      <td>1</td>\n",
       "      <td>U80234</td>\n",
       "      <td>11/15/2019 12:37:50 PM</td>\n",
       "      <td>N55189 N46039 N51741 N53234 N11276 N264 N40716...</td>\n",
       "      <td>N28682-0 N48740-0 N31958-1 N34130-0 N6916-0 N5...</td>\n",
       "      <td>N46039 N53234 N6616 N63573 N38895</td>\n",
       "      <td>N50775-0 N24802-0 N33176-0</td>\n",
       "      <td>tv news tv news finance autos tv movies entert...</td>\n",
       "      <td>tvnews newsus tv-celebrity newsus finance-comp...</td>\n",
       "    </tr>\n",
       "    <tr>\n",
       "      <th>1</th>\n",
       "      <td>2</td>\n",
       "      <td>U60458</td>\n",
       "      <td>11/15/2019 7:11:50 AM</td>\n",
       "      <td>N58715 N32109 N51180 N33438 N54827 N28488 N611...</td>\n",
       "      <td>N20036-0 N23513-1 N32536-0 N46976-0 N35216-0 N...</td>\n",
       "      <td>N58715 N33438 N54827 N34775</td>\n",
       "      <td>N36779-0</td>\n",
       "      <td>news travel finance news news finance music ne...</td>\n",
       "      <td>newsus travelnews finance-companies newsscienc...</td>\n",
       "    </tr>\n",
       "    <tr>\n",
       "      <th>2</th>\n",
       "      <td>3</td>\n",
       "      <td>U44190</td>\n",
       "      <td>11/15/2019 9:55:12 AM</td>\n",
       "      <td>N56253 N1150 N55189 N16233 N61704 N51706 N5303...</td>\n",
       "      <td>N36779-0 N62365-0 N58098-0 N5472-0 N13408-0 N5...</td>\n",
       "      <td>N1150 N16233 N53033</td>\n",
       "      <td>N36779-0 N55036-0 N50775-0 N16680-0</td>\n",
       "      <td>sports news tv news lifestyle sports news ente...</td>\n",
       "      <td>football_nfl newscrime tvnews newsus shop-book...</td>\n",
       "    </tr>\n",
       "    <tr>\n",
       "      <th>3</th>\n",
       "      <td>4</td>\n",
       "      <td>U87380</td>\n",
       "      <td>11/15/2019 3:12:46 PM</td>\n",
       "      <td>N63554 N49153 N28678 N23232 N43369 N58518 N444...</td>\n",
       "      <td>N6950-0 N60215-0 N6074-0 N11930-0 N6916-0 N248...</td>\n",
       "      <td>N49153 N58518 N7649 N45794 N53033 N29361 N28247</td>\n",
       "      <td>N24802-0 N45057-0 N21941-0 N29091-0 N52492-0 N...</td>\n",
       "      <td>travel news sports sports travel news tv news ...</td>\n",
       "      <td>traveltripideas newsus baseball_mlb football_n...</td>\n",
       "    </tr>\n",
       "    <tr>\n",
       "      <th>4</th>\n",
       "      <td>6</td>\n",
       "      <td>U69606</td>\n",
       "      <td>11/15/2019 1:24:44 PM</td>\n",
       "      <td>N879 N19591 N63054 N53033 N54088 N34140 N14952...</td>\n",
       "      <td>N29862-0 N48740-0 N11390-0 N5472-0 N53572-0 N2...</td>\n",
       "      <td>N53033 N54088</td>\n",
       "      <td>N11390-0 N24802-1 N29091-0</td>\n",
       "      <td>sports finance sports news news finance foodan...</td>\n",
       "      <td>basketball_nba finance-companies football_nfl ...</td>\n",
       "    </tr>\n",
       "  </tbody>\n",
       "</table>\n",
       "</div>"
      ],
      "text/plain": [
       "   slateid  userid                    time  \\\n",
       "0        1  U80234  11/15/2019 12:37:50 PM   \n",
       "1        2  U60458   11/15/2019 7:11:50 AM   \n",
       "2        3  U44190   11/15/2019 9:55:12 AM   \n",
       "3        4  U87380   11/15/2019 3:12:46 PM   \n",
       "4        6  U69606   11/15/2019 1:24:44 PM   \n",
       "\n",
       "                                         history_all  \\\n",
       "0  N55189 N46039 N51741 N53234 N11276 N264 N40716...   \n",
       "1  N58715 N32109 N51180 N33438 N54827 N28488 N611...   \n",
       "2  N56253 N1150 N55189 N16233 N61704 N51706 N5303...   \n",
       "3  N63554 N49153 N28678 N23232 N43369 N58518 N444...   \n",
       "4  N879 N19591 N63054 N53033 N54088 N34140 N14952...   \n",
       "\n",
       "                                     impressions_all  \\\n",
       "0  N28682-0 N48740-0 N31958-1 N34130-0 N6916-0 N5...   \n",
       "1  N20036-0 N23513-1 N32536-0 N46976-0 N35216-0 N...   \n",
       "2  N36779-0 N62365-0 N58098-0 N5472-0 N13408-0 N5...   \n",
       "3  N6950-0 N60215-0 N6074-0 N11930-0 N6916-0 N248...   \n",
       "4  N29862-0 N48740-0 N11390-0 N5472-0 N53572-0 N2...   \n",
       "\n",
       "                                      history_news  \\\n",
       "0                N46039 N53234 N6616 N63573 N38895   \n",
       "1                      N58715 N33438 N54827 N34775   \n",
       "2                              N1150 N16233 N53033   \n",
       "3  N49153 N58518 N7649 N45794 N53033 N29361 N28247   \n",
       "4                                    N53033 N54088   \n",
       "\n",
       "                                    impressions_news  \\\n",
       "0                         N50775-0 N24802-0 N33176-0   \n",
       "1                                           N36779-0   \n",
       "2                N36779-0 N55036-0 N50775-0 N16680-0   \n",
       "3  N24802-0 N45057-0 N21941-0 N29091-0 N52492-0 N...   \n",
       "4                         N11390-0 N24802-1 N29091-0   \n",
       "\n",
       "                              history_all_categories  \\\n",
       "0  tv news tv news finance autos tv movies entert...   \n",
       "1  news travel finance news news finance music ne...   \n",
       "2  sports news tv news lifestyle sports news ente...   \n",
       "3  travel news sports sports travel news tv news ...   \n",
       "4  sports finance sports news news finance foodan...   \n",
       "\n",
       "                           history_all_subcategories  \n",
       "0  tvnews newsus tv-celebrity newsus finance-comp...  \n",
       "1  newsus travelnews finance-companies newsscienc...  \n",
       "2  football_nfl newscrime tvnews newsus shop-book...  \n",
       "3  traveltripideas newsus baseball_mlb football_n...  \n",
       "4  basketball_nba finance-companies football_nfl ...  "
      ]
     },
     "execution_count": 16,
     "metadata": {},
     "output_type": "execute_result"
    }
   ],
   "source": [
    "behaviors_test_ex.head(5)"
   ]
  },
  {
   "cell_type": "code",
   "execution_count": 17,
   "id": "2e2cda1a-6bc8-4252-bceb-4b3e9179cd11",
   "metadata": {},
   "outputs": [],
   "source": [
    "behaviors_test_ex[[\"slateid\", \"userid\", \"time\", \"history_news\", \"impressions_news\", \"history_all_categories\", \"history_all_subcategories\", \"history_all\"]].rename(columns={\"history_news\": \"history\", \"impressions_news\": \"impressions\"}).to_csv(COLD_START_BEHAVIORS_TEST, sep=\"\\t\", index=False)"
   ]
  },
  {
   "cell_type": "markdown",
   "id": "aa3f3089-7e76-432a-8392-ee003c501225",
   "metadata": {},
   "source": [
    "# Split `news` data to news-only (main catalogue) and non-news-only (auxiliary catalogue)"
   ]
  },
  {
   "cell_type": "code",
   "execution_count": 18,
   "id": "2af2c716-bd02-489c-ada1-f738e95d244a",
   "metadata": {},
   "outputs": [],
   "source": [
    "news_train.query(\"category == @COLD_START_CATEGORY\").to_csv(NEWS_CATALOGUE_TRAIN, sep=\"\\t\", index=False)"
   ]
  },
  {
   "cell_type": "code",
   "execution_count": 19,
   "id": "1fc72728-902e-4ec5-b154-3989bc7b955b",
   "metadata": {},
   "outputs": [],
   "source": [
    "news_train.query(\"category != @COLD_START_CATEGORY\").to_csv(AUXILIARY_DATA_CATALOGUE_TRAIN, sep=\"\\t\", index=False)"
   ]
  },
  {
   "cell_type": "code",
   "execution_count": 20,
   "id": "49b1935f-6b2f-4ad2-bf6c-1b15d336b23d",
   "metadata": {},
   "outputs": [],
   "source": [
    "news_test.query(\"category == @COLD_START_CATEGORY\").to_csv(NEWS_CATALOGUE_TEST, sep=\"\\t\", index=False)"
   ]
  },
  {
   "cell_type": "code",
   "execution_count": 21,
   "id": "325fb791-0ad0-469c-bb3f-4e8a52c35290",
   "metadata": {},
   "outputs": [],
   "source": [
    "news_test.query(\"category != @COLD_START_CATEGORY\").to_csv(AUXILIARY_DATA_CATALOGUE_TEST, sep=\"\\t\", index=False)"
   ]
  },
  {
   "cell_type": "code",
   "execution_count": null,
   "id": "c1898b1d-05fc-4d62-b8b2-3ef4d17c65c5",
   "metadata": {},
   "outputs": [],
   "source": []
  },
  {
   "cell_type": "markdown",
   "id": "bcc3631f-6070-4e12-a417-2487d6941e94",
   "metadata": {},
   "source": [
    "## Explorative cold-start dataset analysis"
   ]
  },
  {
   "cell_type": "code",
   "execution_count": null,
   "id": "62b80515-4cfd-45dd-8894-5e6eba09d153",
   "metadata": {},
   "outputs": [],
   "source": []
  },
  {
   "cell_type": "markdown",
   "id": "5b2caa7f-6120-44d8-b6c5-63caba7afaf7",
   "metadata": {},
   "source": [
    "## Pre-process data and train baseline recommender(s)"
   ]
  },
  {
   "cell_type": "code",
   "execution_count": null,
   "id": "45b49593-7502-48dc-ac83-e2907c2410e6",
   "metadata": {},
   "outputs": [],
   "source": []
  },
  {
   "cell_type": "markdown",
   "id": "9e026c2a-c2a2-4c24-ae1c-d4fae12c9c05",
   "metadata": {},
   "source": [
    "### Show that baseline performs poorly for cold-start users"
   ]
  },
  {
   "cell_type": "code",
   "execution_count": null,
   "id": "0d5ee92c-1495-4cf8-b055-a7987f207190",
   "metadata": {},
   "outputs": [],
   "source": []
  },
  {
   "cell_type": "markdown",
   "id": "6b88a92f-5db8-44c0-9445-26c7fe236b63",
   "metadata": {},
   "source": [
    "## Train SUM recommender"
   ]
  },
  {
   "cell_type": "code",
   "execution_count": null,
   "id": "2bf51a04-856e-4716-bf68-9ecfcced3f37",
   "metadata": {},
   "outputs": [],
   "source": []
  },
  {
   "cell_type": "markdown",
   "id": "ff34db52-118b-4ff0-990b-cef7665f2c47",
   "metadata": {},
   "source": [
    "## Evaluate and compare recommenders"
   ]
  },
  {
   "cell_type": "code",
   "execution_count": null,
   "id": "3ecdcf75-d975-4310-b629-cd95c1740bf1",
   "metadata": {},
   "outputs": [],
   "source": []
  }
 ],
 "metadata": {
  "kernelspec": {
   "display_name": "Python 3 (ipykernel)",
   "language": "python",
   "name": "python3"
  },
  "language_info": {
   "codemirror_mode": {
    "name": "ipython",
    "version": 3
   },
   "file_extension": ".py",
   "mimetype": "text/x-python",
   "name": "python",
   "nbconvert_exporter": "python",
   "pygments_lexer": "ipython3",
   "version": "3.9.7"
  }
 },
 "nbformat": 4,
 "nbformat_minor": 5
}
